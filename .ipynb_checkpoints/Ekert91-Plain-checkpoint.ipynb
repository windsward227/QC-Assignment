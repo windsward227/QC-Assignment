{
 "cells": [
  {
   "cell_type": "code",
   "execution_count": null,
   "id": "77c0196e-4446-4466-951c-13e1b59f9642",
   "metadata": {},
   "outputs": [],
   "source": [
    "%pip install qiskit==1.2.4\n",
    "%pip install qiskit-aer==0.15.1\n",
    "%pip install pylatexenc==2.10"
   ]
  },
  {
   "cell_type": "code",
   "execution_count": null,
   "id": "c16cd3de-f076-496b-8661-4b1efd19a244",
   "metadata": {},
   "outputs": [],
   "source": [
    "from qiskit import QuantumCircuit\n",
    "from qiskit.converters import circuit_to_gate\n",
    "from qiskit.visualization import array_to_latex\n",
    "from qiskit.quantum_info import Operator\n",
    "from qiskit.quantum_info import Statevector\n",
    "from qiskit import transpile \n",
    "from qiskit.providers.basic_provider import BasicSimulator\n",
    "from qiskit.visualization import plot_histogram\n",
    "from qiskit.circuit import ControlledGate\n",
    "import math \n",
    "\n",
    "# The aim of the assignment is to simulate the Ekert91 key distribution protocol.\n",
    "\n",
    "# This notebook is for a simulation of the protocol without an attacker.\n",
    "\n"
   ]
  },
  {
   "cell_type": "code",
   "execution_count": null,
   "id": "6151e6db-216e-49df-9bea-91f77ff27267",
   "metadata": {},
   "outputs": [],
   "source": []
  },
  {
   "cell_type": "code",
   "execution_count": null,
   "id": "627886c7-3c58-475b-bc54-2c64a912b8b2",
   "metadata": {},
   "outputs": [],
   "source": []
  }
 ],
 "metadata": {
  "kernelspec": {
   "display_name": "Python 3 [qBraid]",
   "language": "python",
   "name": "python3_qbraid_sdk_9j9sjy"
  },
  "language_info": {
   "codemirror_mode": {
    "name": "ipython",
    "version": 3
   },
   "file_extension": ".py",
   "mimetype": "text/x-python",
   "name": "python",
   "nbconvert_exporter": "python",
   "pygments_lexer": "ipython3",
   "version": "3.11.9"
  }
 },
 "nbformat": 4,
 "nbformat_minor": 5
}
